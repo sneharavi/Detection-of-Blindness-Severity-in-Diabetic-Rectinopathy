{
 "cells": [
  {
   "cell_type": "markdown",
   "metadata": {},
   "source": [
    "#        Blindness Detection Severity of Diabetic Retinopathy\n",
    "                               \n",
    "                   Date Due: 2nd December at 1.00 PM\n",
    "                                            \n",
    "            ------------------------------------------------\n",
    "\n",
    "                   Team Members:                 Z-ID:\n",
    "\n",
    "                   Sandesh Reddy Pendyala        Z1859176\n",
    "                   \n",
    "                   Sneha Ravi Chandran           Z1856678\n",
    "\n",
    "                   Priyanjani Chandra            Z1864520\n",
    "                          \n",
    "                   Sindhusha Devi Parimi         Z1855951\n",
    "\n",
    "     "
   ]
  },
  {
   "cell_type": "markdown",
   "metadata": {},
   "source": [
    "Programmer: Sandesh Reddy Pendyala\n",
    "\n",
    "Purpose: Did the initial data preprocessing. Had to process the data into a directory system \n",
    "that involved in splitting of the images grouped in accordance with its class labels into its\n",
    "respective folders which makes it compatible to run with the various models we had chosen to build.  "
   ]
  },
  {
   "cell_type": "code",
   "execution_count": 4,
   "metadata": {},
   "outputs": [],
   "source": [
    "# Importing Tensorflow and keras libraries and packages necessary to build the model\n",
    "import os\n",
    "import pandas as pd\n",
    "import numpy as np\n",
    "import tensorflow as tf\n",
    "from tensorflow.keras.preprocessing.image import ImageDataGenerator"
   ]
  },
  {
   "cell_type": "code",
   "execution_count": 2,
   "metadata": {},
   "outputs": [
    {
     "data": {
      "text/html": [
       "<div>\n",
       "<style scoped>\n",
       "    .dataframe tbody tr th:only-of-type {\n",
       "        vertical-align: middle;\n",
       "    }\n",
       "\n",
       "    .dataframe tbody tr th {\n",
       "        vertical-align: top;\n",
       "    }\n",
       "\n",
       "    .dataframe thead th {\n",
       "        text-align: right;\n",
       "    }\n",
       "</style>\n",
       "<table border=\"1\" class=\"dataframe\">\n",
       "  <thead>\n",
       "    <tr style=\"text-align: right;\">\n",
       "      <th></th>\n",
       "      <th>id_code</th>\n",
       "      <th>diagnosis</th>\n",
       "    </tr>\n",
       "  </thead>\n",
       "  <tbody>\n",
       "    <tr>\n",
       "      <td>0</td>\n",
       "      <td>000c1434d8d7</td>\n",
       "      <td>2</td>\n",
       "    </tr>\n",
       "    <tr>\n",
       "      <td>1</td>\n",
       "      <td>001639a390f0</td>\n",
       "      <td>4</td>\n",
       "    </tr>\n",
       "    <tr>\n",
       "      <td>2</td>\n",
       "      <td>0024cdab0c1e</td>\n",
       "      <td>1</td>\n",
       "    </tr>\n",
       "    <tr>\n",
       "      <td>3</td>\n",
       "      <td>002c21358ce6</td>\n",
       "      <td>0</td>\n",
       "    </tr>\n",
       "    <tr>\n",
       "      <td>4</td>\n",
       "      <td>005b95c28852</td>\n",
       "      <td>0</td>\n",
       "    </tr>\n",
       "    <tr>\n",
       "      <td>...</td>\n",
       "      <td>...</td>\n",
       "      <td>...</td>\n",
       "    </tr>\n",
       "    <tr>\n",
       "      <td>3657</td>\n",
       "      <td>ffa47f6a7bf4</td>\n",
       "      <td>2</td>\n",
       "    </tr>\n",
       "    <tr>\n",
       "      <td>3658</td>\n",
       "      <td>ffc04fed30e6</td>\n",
       "      <td>0</td>\n",
       "    </tr>\n",
       "    <tr>\n",
       "      <td>3659</td>\n",
       "      <td>ffcf7b45f213</td>\n",
       "      <td>2</td>\n",
       "    </tr>\n",
       "    <tr>\n",
       "      <td>3660</td>\n",
       "      <td>ffd97f8cd5aa</td>\n",
       "      <td>0</td>\n",
       "    </tr>\n",
       "    <tr>\n",
       "      <td>3661</td>\n",
       "      <td>ffec9a18a3ce</td>\n",
       "      <td>2</td>\n",
       "    </tr>\n",
       "  </tbody>\n",
       "</table>\n",
       "<p>3662 rows × 2 columns</p>\n",
       "</div>"
      ],
      "text/plain": [
       "           id_code  diagnosis\n",
       "0     000c1434d8d7          2\n",
       "1     001639a390f0          4\n",
       "2     0024cdab0c1e          1\n",
       "3     002c21358ce6          0\n",
       "4     005b95c28852          0\n",
       "...            ...        ...\n",
       "3657  ffa47f6a7bf4          2\n",
       "3658  ffc04fed30e6          0\n",
       "3659  ffcf7b45f213          2\n",
       "3660  ffd97f8cd5aa          0\n",
       "3661  ffec9a18a3ce          2\n",
       "\n",
       "[3662 rows x 2 columns]"
      ]
     },
     "execution_count": 2,
     "metadata": {},
     "output_type": "execute_result"
    }
   ],
   "source": [
    "# reading the csv into a pandas DataFrame\n",
    "df = pd.read_csv('D:\\\\Fall_2019\\\\Neural_Networks\\\\Blindness Detection\\\\train.csv')  \n",
    "\n",
    "# displaying the dataframe\n",
    "df"
   ]
  },
  {
   "cell_type": "code",
   "execution_count": 3,
   "metadata": {},
   "outputs": [
    {
     "data": {
      "text/plain": [
       "diagnosis\n",
       "0    [002c21358ce6, 005b95c28852, 0097f532ac9f, 00c...\n",
       "1    [0024cdab0c1e, 00cb6555d108, 0124dffecf29, 01b...\n",
       "2    [000c1434d8d7, 00a8624548a9, 00b74780d31d, 00e...\n",
       "3    [0104b032c141, 03c85870824c, 042470a92154, 05c...\n",
       "4    [001639a390f0, 0083ee8054ee, 0243404e8a00, 026...\n",
       "dtype: object"
      ]
     },
     "execution_count": 3,
     "metadata": {},
     "output_type": "execute_result"
    }
   ],
   "source": [
    "# group the dataframe df by the class label\n",
    "group = df.groupby('diagnosis')                                           \n",
    "df2 = group.apply(lambda x: x['id_code'].unique())  \n",
    "\n",
    "# printing the grouped dataframe df2\n",
    "df2"
   ]
  },
  {
   "cell_type": "code",
   "execution_count": 4,
   "metadata": {},
   "outputs": [
    {
     "data": {
      "text/html": [
       "<div>\n",
       "<style scoped>\n",
       "    .dataframe tbody tr th:only-of-type {\n",
       "        vertical-align: middle;\n",
       "    }\n",
       "\n",
       "    .dataframe tbody tr th {\n",
       "        vertical-align: top;\n",
       "    }\n",
       "\n",
       "    .dataframe thead th {\n",
       "        text-align: right;\n",
       "    }\n",
       "</style>\n",
       "<table border=\"1\" class=\"dataframe\">\n",
       "  <thead>\n",
       "    <tr style=\"text-align: right;\">\n",
       "      <th></th>\n",
       "      <th>0</th>\n",
       "      <th>1</th>\n",
       "      <th>2</th>\n",
       "      <th>3</th>\n",
       "      <th>4</th>\n",
       "      <th>5</th>\n",
       "      <th>6</th>\n",
       "      <th>7</th>\n",
       "      <th>8</th>\n",
       "      <th>9</th>\n",
       "      <th>...</th>\n",
       "      <th>1795</th>\n",
       "      <th>1796</th>\n",
       "      <th>1797</th>\n",
       "      <th>1798</th>\n",
       "      <th>1799</th>\n",
       "      <th>1800</th>\n",
       "      <th>1801</th>\n",
       "      <th>1802</th>\n",
       "      <th>1803</th>\n",
       "      <th>1804</th>\n",
       "    </tr>\n",
       "    <tr>\n",
       "      <th>diagnosis</th>\n",
       "      <th></th>\n",
       "      <th></th>\n",
       "      <th></th>\n",
       "      <th></th>\n",
       "      <th></th>\n",
       "      <th></th>\n",
       "      <th></th>\n",
       "      <th></th>\n",
       "      <th></th>\n",
       "      <th></th>\n",
       "      <th></th>\n",
       "      <th></th>\n",
       "      <th></th>\n",
       "      <th></th>\n",
       "      <th></th>\n",
       "      <th></th>\n",
       "      <th></th>\n",
       "      <th></th>\n",
       "      <th></th>\n",
       "      <th></th>\n",
       "      <th></th>\n",
       "    </tr>\n",
       "  </thead>\n",
       "  <tbody>\n",
       "    <tr>\n",
       "      <td>0</td>\n",
       "      <td>002c21358ce6</td>\n",
       "      <td>005b95c28852</td>\n",
       "      <td>0097f532ac9f</td>\n",
       "      <td>00cc2b75cddd</td>\n",
       "      <td>00f6c1be5a33</td>\n",
       "      <td>0125fbd2e791</td>\n",
       "      <td>014508ccb9cb</td>\n",
       "      <td>0151781fe50b</td>\n",
       "      <td>0182152c50de</td>\n",
       "      <td>01d9477b1171</td>\n",
       "      <td>...</td>\n",
       "      <td>fefded6bf135</td>\n",
       "      <td>ff03f74667df</td>\n",
       "      <td>ff1e940105f9</td>\n",
       "      <td>ff4832d55461</td>\n",
       "      <td>ff4955e76894</td>\n",
       "      <td>ff4cd992667b</td>\n",
       "      <td>ff59d44a70a7</td>\n",
       "      <td>ff631653374e</td>\n",
       "      <td>ffc04fed30e6</td>\n",
       "      <td>ffd97f8cd5aa</td>\n",
       "    </tr>\n",
       "    <tr>\n",
       "      <td>1</td>\n",
       "      <td>0024cdab0c1e</td>\n",
       "      <td>00cb6555d108</td>\n",
       "      <td>0124dffecf29</td>\n",
       "      <td>01b3aed3ed4c</td>\n",
       "      <td>0369f3efe69b</td>\n",
       "      <td>03e25101e8e8</td>\n",
       "      <td>04ac765f91a1</td>\n",
       "      <td>059bc89df7f4</td>\n",
       "      <td>05a5183c92d0</td>\n",
       "      <td>0684311afdfc</td>\n",
       "      <td>...</td>\n",
       "      <td>NaN</td>\n",
       "      <td>NaN</td>\n",
       "      <td>NaN</td>\n",
       "      <td>NaN</td>\n",
       "      <td>NaN</td>\n",
       "      <td>NaN</td>\n",
       "      <td>NaN</td>\n",
       "      <td>NaN</td>\n",
       "      <td>NaN</td>\n",
       "      <td>NaN</td>\n",
       "    </tr>\n",
       "    <tr>\n",
       "      <td>2</td>\n",
       "      <td>000c1434d8d7</td>\n",
       "      <td>00a8624548a9</td>\n",
       "      <td>00b74780d31d</td>\n",
       "      <td>00e4ddff966a</td>\n",
       "      <td>012a242ac6ff</td>\n",
       "      <td>0161338f53cc</td>\n",
       "      <td>0180bfa26c0b</td>\n",
       "      <td>01c7808d901d</td>\n",
       "      <td>01eb826f6467</td>\n",
       "      <td>025a169a0bb0</td>\n",
       "      <td>...</td>\n",
       "      <td>NaN</td>\n",
       "      <td>NaN</td>\n",
       "      <td>NaN</td>\n",
       "      <td>NaN</td>\n",
       "      <td>NaN</td>\n",
       "      <td>NaN</td>\n",
       "      <td>NaN</td>\n",
       "      <td>NaN</td>\n",
       "      <td>NaN</td>\n",
       "      <td>NaN</td>\n",
       "    </tr>\n",
       "    <tr>\n",
       "      <td>3</td>\n",
       "      <td>0104b032c141</td>\n",
       "      <td>03c85870824c</td>\n",
       "      <td>042470a92154</td>\n",
       "      <td>05cd0178ccfe</td>\n",
       "      <td>069f43616fab</td>\n",
       "      <td>070f67572d03</td>\n",
       "      <td>07a0e34c8d20</td>\n",
       "      <td>093a42649c29</td>\n",
       "      <td>0c917c372572</td>\n",
       "      <td>0cb14014117d</td>\n",
       "      <td>...</td>\n",
       "      <td>NaN</td>\n",
       "      <td>NaN</td>\n",
       "      <td>NaN</td>\n",
       "      <td>NaN</td>\n",
       "      <td>NaN</td>\n",
       "      <td>NaN</td>\n",
       "      <td>NaN</td>\n",
       "      <td>NaN</td>\n",
       "      <td>NaN</td>\n",
       "      <td>NaN</td>\n",
       "    </tr>\n",
       "    <tr>\n",
       "      <td>4</td>\n",
       "      <td>001639a390f0</td>\n",
       "      <td>0083ee8054ee</td>\n",
       "      <td>0243404e8a00</td>\n",
       "      <td>02685f13cefd</td>\n",
       "      <td>02dda30d3acf</td>\n",
       "      <td>0318598cfd16</td>\n",
       "      <td>034cb07a550f</td>\n",
       "      <td>03a7f4a5786f</td>\n",
       "      <td>07122e268a1d</td>\n",
       "      <td>080ee76c958c</td>\n",
       "      <td>...</td>\n",
       "      <td>NaN</td>\n",
       "      <td>NaN</td>\n",
       "      <td>NaN</td>\n",
       "      <td>NaN</td>\n",
       "      <td>NaN</td>\n",
       "      <td>NaN</td>\n",
       "      <td>NaN</td>\n",
       "      <td>NaN</td>\n",
       "      <td>NaN</td>\n",
       "      <td>NaN</td>\n",
       "    </tr>\n",
       "  </tbody>\n",
       "</table>\n",
       "<p>5 rows × 1805 columns</p>\n",
       "</div>"
      ],
      "text/plain": [
       "                   0             1             2             3     \\\n",
       "diagnosis                                                           \n",
       "0          002c21358ce6  005b95c28852  0097f532ac9f  00cc2b75cddd   \n",
       "1          0024cdab0c1e  00cb6555d108  0124dffecf29  01b3aed3ed4c   \n",
       "2          000c1434d8d7  00a8624548a9  00b74780d31d  00e4ddff966a   \n",
       "3          0104b032c141  03c85870824c  042470a92154  05cd0178ccfe   \n",
       "4          001639a390f0  0083ee8054ee  0243404e8a00  02685f13cefd   \n",
       "\n",
       "                   4             5             6             7     \\\n",
       "diagnosis                                                           \n",
       "0          00f6c1be5a33  0125fbd2e791  014508ccb9cb  0151781fe50b   \n",
       "1          0369f3efe69b  03e25101e8e8  04ac765f91a1  059bc89df7f4   \n",
       "2          012a242ac6ff  0161338f53cc  0180bfa26c0b  01c7808d901d   \n",
       "3          069f43616fab  070f67572d03  07a0e34c8d20  093a42649c29   \n",
       "4          02dda30d3acf  0318598cfd16  034cb07a550f  03a7f4a5786f   \n",
       "\n",
       "                   8             9     ...          1795          1796  \\\n",
       "diagnosis                              ...                               \n",
       "0          0182152c50de  01d9477b1171  ...  fefded6bf135  ff03f74667df   \n",
       "1          05a5183c92d0  0684311afdfc  ...           NaN           NaN   \n",
       "2          01eb826f6467  025a169a0bb0  ...           NaN           NaN   \n",
       "3          0c917c372572  0cb14014117d  ...           NaN           NaN   \n",
       "4          07122e268a1d  080ee76c958c  ...           NaN           NaN   \n",
       "\n",
       "                   1797          1798          1799          1800  \\\n",
       "diagnosis                                                           \n",
       "0          ff1e940105f9  ff4832d55461  ff4955e76894  ff4cd992667b   \n",
       "1                   NaN           NaN           NaN           NaN   \n",
       "2                   NaN           NaN           NaN           NaN   \n",
       "3                   NaN           NaN           NaN           NaN   \n",
       "4                   NaN           NaN           NaN           NaN   \n",
       "\n",
       "                   1801          1802          1803          1804  \n",
       "diagnosis                                                          \n",
       "0          ff59d44a70a7  ff631653374e  ffc04fed30e6  ffd97f8cd5aa  \n",
       "1                   NaN           NaN           NaN           NaN  \n",
       "2                   NaN           NaN           NaN           NaN  \n",
       "3                   NaN           NaN           NaN           NaN  \n",
       "4                   NaN           NaN           NaN           NaN  \n",
       "\n",
       "[5 rows x 1805 columns]"
      ]
     },
     "execution_count": 4,
     "metadata": {},
     "output_type": "execute_result"
    }
   ],
   "source": [
    "# returning the numpy array representation of the given series object\n",
    "df2 = df2.apply(pd.Series)\n",
    "df2"
   ]
  },
  {
   "cell_type": "code",
   "execution_count": 5,
   "metadata": {},
   "outputs": [
    {
     "data": {
      "text/html": [
       "<div>\n",
       "<style scoped>\n",
       "    .dataframe tbody tr th:only-of-type {\n",
       "        vertical-align: middle;\n",
       "    }\n",
       "\n",
       "    .dataframe tbody tr th {\n",
       "        vertical-align: top;\n",
       "    }\n",
       "\n",
       "    .dataframe thead th {\n",
       "        text-align: right;\n",
       "    }\n",
       "</style>\n",
       "<table border=\"1\" class=\"dataframe\">\n",
       "  <thead>\n",
       "    <tr style=\"text-align: right;\">\n",
       "      <th>diagnosis</th>\n",
       "      <th>0</th>\n",
       "      <th>1</th>\n",
       "      <th>2</th>\n",
       "      <th>3</th>\n",
       "      <th>4</th>\n",
       "    </tr>\n",
       "  </thead>\n",
       "  <tbody>\n",
       "    <tr>\n",
       "      <td>0</td>\n",
       "      <td>002c21358ce6</td>\n",
       "      <td>0024cdab0c1e</td>\n",
       "      <td>000c1434d8d7</td>\n",
       "      <td>0104b032c141</td>\n",
       "      <td>001639a390f0</td>\n",
       "    </tr>\n",
       "    <tr>\n",
       "      <td>1</td>\n",
       "      <td>005b95c28852</td>\n",
       "      <td>00cb6555d108</td>\n",
       "      <td>00a8624548a9</td>\n",
       "      <td>03c85870824c</td>\n",
       "      <td>0083ee8054ee</td>\n",
       "    </tr>\n",
       "    <tr>\n",
       "      <td>2</td>\n",
       "      <td>0097f532ac9f</td>\n",
       "      <td>0124dffecf29</td>\n",
       "      <td>00b74780d31d</td>\n",
       "      <td>042470a92154</td>\n",
       "      <td>0243404e8a00</td>\n",
       "    </tr>\n",
       "    <tr>\n",
       "      <td>3</td>\n",
       "      <td>00cc2b75cddd</td>\n",
       "      <td>01b3aed3ed4c</td>\n",
       "      <td>00e4ddff966a</td>\n",
       "      <td>05cd0178ccfe</td>\n",
       "      <td>02685f13cefd</td>\n",
       "    </tr>\n",
       "    <tr>\n",
       "      <td>4</td>\n",
       "      <td>00f6c1be5a33</td>\n",
       "      <td>0369f3efe69b</td>\n",
       "      <td>012a242ac6ff</td>\n",
       "      <td>069f43616fab</td>\n",
       "      <td>02dda30d3acf</td>\n",
       "    </tr>\n",
       "    <tr>\n",
       "      <td>...</td>\n",
       "      <td>...</td>\n",
       "      <td>...</td>\n",
       "      <td>...</td>\n",
       "      <td>...</td>\n",
       "      <td>...</td>\n",
       "    </tr>\n",
       "    <tr>\n",
       "      <td>1800</td>\n",
       "      <td>ff4cd992667b</td>\n",
       "      <td>NaN</td>\n",
       "      <td>NaN</td>\n",
       "      <td>NaN</td>\n",
       "      <td>NaN</td>\n",
       "    </tr>\n",
       "    <tr>\n",
       "      <td>1801</td>\n",
       "      <td>ff59d44a70a7</td>\n",
       "      <td>NaN</td>\n",
       "      <td>NaN</td>\n",
       "      <td>NaN</td>\n",
       "      <td>NaN</td>\n",
       "    </tr>\n",
       "    <tr>\n",
       "      <td>1802</td>\n",
       "      <td>ff631653374e</td>\n",
       "      <td>NaN</td>\n",
       "      <td>NaN</td>\n",
       "      <td>NaN</td>\n",
       "      <td>NaN</td>\n",
       "    </tr>\n",
       "    <tr>\n",
       "      <td>1803</td>\n",
       "      <td>ffc04fed30e6</td>\n",
       "      <td>NaN</td>\n",
       "      <td>NaN</td>\n",
       "      <td>NaN</td>\n",
       "      <td>NaN</td>\n",
       "    </tr>\n",
       "    <tr>\n",
       "      <td>1804</td>\n",
       "      <td>ffd97f8cd5aa</td>\n",
       "      <td>NaN</td>\n",
       "      <td>NaN</td>\n",
       "      <td>NaN</td>\n",
       "      <td>NaN</td>\n",
       "    </tr>\n",
       "  </tbody>\n",
       "</table>\n",
       "<p>1805 rows × 5 columns</p>\n",
       "</div>"
      ],
      "text/plain": [
       "diagnosis             0             1             2             3  \\\n",
       "0          002c21358ce6  0024cdab0c1e  000c1434d8d7  0104b032c141   \n",
       "1          005b95c28852  00cb6555d108  00a8624548a9  03c85870824c   \n",
       "2          0097f532ac9f  0124dffecf29  00b74780d31d  042470a92154   \n",
       "3          00cc2b75cddd  01b3aed3ed4c  00e4ddff966a  05cd0178ccfe   \n",
       "4          00f6c1be5a33  0369f3efe69b  012a242ac6ff  069f43616fab   \n",
       "...                 ...           ...           ...           ...   \n",
       "1800       ff4cd992667b           NaN           NaN           NaN   \n",
       "1801       ff59d44a70a7           NaN           NaN           NaN   \n",
       "1802       ff631653374e           NaN           NaN           NaN   \n",
       "1803       ffc04fed30e6           NaN           NaN           NaN   \n",
       "1804       ffd97f8cd5aa           NaN           NaN           NaN   \n",
       "\n",
       "diagnosis             4  \n",
       "0          001639a390f0  \n",
       "1          0083ee8054ee  \n",
       "2          0243404e8a00  \n",
       "3          02685f13cefd  \n",
       "4          02dda30d3acf  \n",
       "...                 ...  \n",
       "1800                NaN  \n",
       "1801                NaN  \n",
       "1802                NaN  \n",
       "1803                NaN  \n",
       "1804                NaN  \n",
       "\n",
       "[1805 rows x 5 columns]"
      ]
     },
     "execution_count": 5,
     "metadata": {},
     "output_type": "execute_result"
    }
   ],
   "source": [
    "# creating separate csv files grouped with respect to the class labels\n",
    "for i, g in df.groupby('diagnosis'):\n",
    "    g.to_csv('{}.csv'.format(i), header=False, index_label=False)\n",
    "\n",
    "# swapping the rows and columns\n",
    "df2= df2.swapaxes(\"index\", \"columns\")\n",
    "df2"
   ]
  },
  {
   "cell_type": "code",
   "execution_count": 5,
   "metadata": {},
   "outputs": [],
   "source": [
    "import shutil as sh\n",
    "\n",
    "# path mentioned for storing the grouped images in with respect to the class labels\n",
    "path = \"C:\\\\Users\\\\sneha\\\\Desktop\\\\NeuralNetworks\\\\split_old\\\\\"\n",
    "\n",
    "# source path of the training images\n",
    "path_img = \"D:\\\\Fall_2019\\\\Neural_Networks\\\\Blindness Detection\\\\train_images\\\\\" "
   ]
  },
  {
   "cell_type": "code",
   "execution_count": null,
   "metadata": {},
   "outputs": [],
   "source": [
    "'''\n",
    "Iterate through the each of the class label value and its corresponding images grouped under that label.\n",
    "Append the path with the name of the folder as the class label name.\n",
    "In our case, based on the severity the labels are grouped as,\n",
    "0 - No DR\n",
    "1 - Mild\n",
    "2 - Moderate\n",
    "3 - Severe\n",
    "4 - Proliferative DR\n",
    "\n",
    "Each of these label folder will now have the images grouped under that category after iterating \n",
    "through the its repective values.\n",
    "'''\n",
    "for (col, colData) in df2.iteritems(): \n",
    "\n",
    "    new_path = path + str(col)\n",
    "    os.mkdir(new_path)\n",
    "    #print(type(data))      # type is string\n",
    "\n",
    "    for data in colData.values:\n",
    "        try:\n",
    "            data = str(data)\n",
    "            if data!= 'NaN':\n",
    "                sh.copy(path_img + str(data) +'.png' , new_path)\n",
    "            #print(type(data))\n",
    "        except FileNotFoundError:\n",
    "            continue"
   ]
  },
  {
   "cell_type": "code",
   "execution_count": 7,
   "metadata": {},
   "outputs": [
    {
     "name": "stdout",
     "output_type": "stream",
     "text": [
      "<class 'pandas.core.frame.DataFrame'>\n",
      "RangeIndex: 1805 entries, 0 to 1804\n",
      "Data columns (total 5 columns):\n",
      "0    1805 non-null object\n",
      "1    370 non-null object\n",
      "2    999 non-null object\n",
      "3    193 non-null object\n",
      "4    295 non-null object\n",
      "dtypes: object(5)\n",
      "memory usage: 70.6+ KB\n"
     ]
    }
   ],
   "source": [
    "# printing the dataframe information to know how many value are there for each class\n",
    "df2.info()"
   ]
  },
  {
   "cell_type": "markdown",
   "metadata": {},
   "source": [
    "### Visualization of the original class labels"
   ]
  },
  {
   "cell_type": "markdown",
   "metadata": {},
   "source": [
    "Programmer: Sneha Ravi Chandran\n",
    "\n",
    "Purpose: Visualizing the original class labels using matplotlib. Each of the images are grouped under their respective classes. Implemented the count_images method to calculate the image count in each directory."
   ]
  },
  {
   "cell_type": "code",
   "execution_count": 2,
   "metadata": {},
   "outputs": [],
   "source": [
    "'''For counting the number of images in each class for a given directory and return them in a list'''\n",
    "def count_images(path, classes):\n",
    "    count = []\n",
    "    for c in classes:\n",
    "        label_path= os.path.join(path, c)\n",
    "        image_cnt = len([f for f in os.listdir(label_path)if os.path.isfile(os.path.join(label_path, f))])\n",
    "        count.append(image_cnt)\n",
    "    return count"
   ]
  },
  {
   "cell_type": "code",
   "execution_count": 6,
   "metadata": {},
   "outputs": [],
   "source": [
    "import matplotlib.pyplot as plt\n",
    "%matplotlib inline\n",
    "\n",
    "# plotting the images grouped under each labels\n",
    "\n",
    "def plot_class(y):\n",
    "    plt.style.use('ggplot')\n",
    "    plt.figure(figsize = (12,7))\n",
    "\n",
    "    x = ['0- No DR', '1- Mild', '2- Moderate', '3- Severe', '4- Proliferative DR']\n",
    "\n",
    "    x_pos = [i for i, _ in enumerate(x)]\n",
    "\n",
    "    plt.bar(x_pos, y, color='green')\n",
    "    plt.xlabel(\"Class\", fontsize=15)\n",
    "    plt.ylabel(\"Count\", fontsize=15)\n",
    "    plt.title(\"Severity of Diabetic Retinopathy(DR)\", fontsize=25)\n",
    "\n",
    "    plt.xticks(x_pos, x)\n",
    "\n",
    "    plt.show()"
   ]
  },
  {
   "cell_type": "code",
   "execution_count": 8,
   "metadata": {},
   "outputs": [
    {
     "data": {
      "image/png": "[encoded data removed]",
      "text/plain": [
       "<Figure size 864x504 with 1 Axes>"
      ]
     },
     "metadata": {},
     "output_type": "display_data"
    }
   ],
   "source": [
    "classes = ['0', '1', '2', '3', '4']\n",
    "y = count_images(path, classes)\n",
    "plot_class(y)"
   ]
  },
  {
   "cell_type": "markdown",
   "metadata": {},
   "source": [
    "# Splitting the dataset into Train, Validation and Test"
   ]
  },
  {
   "cell_type": "markdown",
   "metadata": {},
   "source": [
    "Programmer: Priyanjani Chandra\n",
    "\n",
    "Purpose: Taking the file system and split it up further into training, test and validation data sets. Also implemented the code for writing test image names and their labels into a CSV file."
   ]
  },
  {
   "cell_type": "code",
   "execution_count": 9,
   "metadata": {},
   "outputs": [],
   "source": [
    "import os\n",
    "import numpy as np\n",
    "import shutil\n",
    "# Setting the path to the original dataset\n",
    "img_dir=\"C:\\\\Users\\\\sneha\\\\Desktop\\\\NeuralNetworks\\\\split\\\\\""
   ]
  },
  {
   "cell_type": "code",
   "execution_count": 10,
   "metadata": {},
   "outputs": [],
   "source": [
    "# Create folders for training data and validation randomly splitted \n",
    "os.mkdir(\"old_train_1\")\n",
    "os.mkdir(\"old_test\")\n",
    "os.mkdir(\"old_train\")\n",
    "os.mkdir(\"old_valid\")"
   ]
  },
  {
   "cell_type": "code",
   "execution_count": 11,
   "metadata": {},
   "outputs": [],
   "source": [
    "# Assigning the directory paths\n",
    "old_train_dir_1 = \"old_train_1/\"\n",
    "old_test_dir =  \"old_test/\"\n",
    "old_train_dir = \"old_train/\"\n",
    "old_valid_dir = \"old_valid/\""
   ]
  },
  {
   "cell_type": "code",
   "execution_count": 12,
   "metadata": {},
   "outputs": [],
   "source": [
    "# Get all the classes from the original train directory\n",
    "classes = os.listdir(img_dir) "
   ]
  },
  {
   "cell_type": "code",
   "execution_count": 13,
   "metadata": {},
   "outputs": [],
   "source": [
    "# Create target folders in the new train data directory\n",
    "for c in classes:\n",
    "    os.mkdir(old_train_dir+c)\n",
    "    os.mkdir(old_valid_dir+c)\n",
    "    os.mkdir(old_train_dir_1+c)\n",
    "    os.mkdir(old_test_dir+c)"
   ]
  },
  {
   "cell_type": "code",
   "execution_count": 15,
   "metadata": {},
   "outputs": [
    {
     "data": {
      "text/plain": [
       "['0', '1', '2', '3', '4']"
      ]
     },
     "execution_count": 15,
     "metadata": {},
     "output_type": "execute_result"
    }
   ],
   "source": [
    "classes"
   ]
  },
  {
   "cell_type": "code",
   "execution_count": 17,
   "metadata": {},
   "outputs": [],
   "source": [
    "'''\n",
    "Randomly splitting the dataset into 80% as training and 20% as validation.\n",
    "Storing them into separate folder of train and test with class labels folder \n",
    "grouped under each of them.\n",
    "'''\n",
    "def split_dataset(path, classes, new_train_dir, new_test_dir):\n",
    "   \n",
    "    for images in classes:\n",
    "        # images correspond to class labels\n",
    "        class_root = path+images+'/'\n",
    "        new_train = new_train_dir + images + '/'\n",
    "        new_test = new_test_dir + images + '/'\n",
    "        # list of images present in the path\n",
    "        root_list = os.listdir(class_root)\n",
    "        # Assigning the split size\n",
    "        test_size = 0.85\n",
    "        split_index = int(test_size*len(root_list))\n",
    "        # Shuffling the images in each class\n",
    "        np.random.shuffle(root_list)\n",
    "        train_list = root_list[:split_index]\n",
    "        test_list = root_list[split_index:]\n",
    "        # Copying the images into training directories\n",
    "        for final_image in train_list :\n",
    "            source = class_root + final_image\n",
    "            target = new_train + final_image\n",
    "            sh.copy(source,target)\n",
    "        # Copying the images into testing directories\n",
    "        for final_image in test_list:\n",
    "            source = class_root + final_image\n",
    "            target = new_test + final_image\n",
    "            sh.copy(source,target)"
   ]
  },
  {
   "cell_type": "code",
   "execution_count": 33,
   "metadata": {},
   "outputs": [],
   "source": [
    "# Split the initial data to train and test sets\n",
    "split_dataset(path, classes, old_train_dir_1, old_test_dir)"
   ]
  },
  {
   "cell_type": "code",
   "execution_count": null,
   "metadata": {},
   "outputs": [],
   "source": [
    "'''Saving the image file names and classes for the test data in a csv file for final prediction '''\n",
    "\n",
    "import csv\n",
    "\n",
    "# Opening an empty CSV file\n",
    "out_file=open('D:/Blindness Detection/new_test_labels.csv','w', newline='')\n",
    "write=csv.writer(out_file)\n",
    "write.writerow(['Filename', 'Label'])\n",
    "label = 0\n",
    "# walking through all the files in each sub directory i.e., classes\n",
    "for path, dirs, files in os.walk(\"D:/Blindness Detection/New/new_test/\"):\n",
    "    for filename in files:\n",
    "        write.writerow([filename, label-1])\n",
    "    label+=1\n",
    "# Clsing the file\n",
    "out_file.close()"
   ]
  },
  {
   "cell_type": "code",
   "execution_count": 34,
   "metadata": {},
   "outputs": [],
   "source": [
    "# Split the train data to train and validation sets\n",
    "new_path = 'C:\\\\Users\\\\sneha\\\\Desktop\\\\NeuralNetworks\\\\New\\\\old_train_1\\\\'\n",
    "split_dataset(new_path, classes, old_train_dir, old_valid_dir)"
   ]
  },
  {
   "cell_type": "code",
   "execution_count": 80,
   "metadata": {},
   "outputs": [
    {
     "name": "stdout",
     "output_type": "stream",
     "text": [
      "Number of images in train dataset:       2632\n",
      "Number of images in validation dataset:  466\n",
      "Number of images in test dataset:        550\n"
     ]
    }
   ],
   "source": [
    "# Finding the total number of images in train, test and validation datasets\n",
    "train_count = count_images('C:\\\\Users\\\\sneha\\\\Desktop\\\\NeuralNetworks\\\\New\\\\old_train\\\\', classes)\n",
    "valid_count = count_images('C:\\\\Users\\\\sneha\\\\Desktop\\\\NeuralNetworks\\\\New\\\\old_valid\\\\', classes)\n",
    "test_count = count_images('C:\\\\Users\\\\sneha\\\\Desktop\\\\NeuralNetworks\\\\New\\\\old_test\\\\', classes)\n",
    "\n",
    "print('Number of images in train dataset:      ', sum(train_count))\n",
    "print('Number of images in validation dataset: ', sum(valid_count))\n",
    "print('Number of images in test dataset:       ', sum(test_count))"
   ]
  },
  {
   "cell_type": "markdown",
   "metadata": {},
   "source": [
    "### Visualizing the train, validation  and test dataset\n",
    "\n",
    "Programmer: Sneha Ravi Chandran\n",
    "\n",
    "Purpose: Visualizing the original train, validation and test dataset after split using matplotlib"
   ]
  },
  {
   "cell_type": "code",
   "execution_count": 23,
   "metadata": {},
   "outputs": [],
   "source": [
    "# plotting the training and validation split ratio\n",
    "\n",
    "def train_valid_plot(train_means, valid_means, test_means):\n",
    "    labels = ['0- No DR', '1- Mild', '2- Moderate', '3- Severe', '4- Proliferative DR']\n",
    "\n",
    "    x = np.arange(len(labels))  # the label locations\n",
    "    width = 0.25  # the width of the bars\n",
    "\n",
    "    fig, ax = plt.subplots(figsize=(12,7))\n",
    "    rects1 = ax.bar(x - width, train_means, width, label='Train')\n",
    "    rects2 = ax.bar(x , valid_means, width, label='Validation')\n",
    "    rects3 = ax.bar(x + width, test_means, width, label='Test')\n",
    "\n",
    "    # Add some text for labels, title and custom x-axis tick labels, etc.\n",
    "    ax.set_xlabel(\"Class\", fontsize=15)\n",
    "    ax.set_ylabel('Count', fontsize=15)\n",
    "    ax.set_title('DR Training Test Validation Split', fontsize=25)\n",
    "    ax.set_xticks(x)\n",
    "    ax.set_xticklabels(labels)\n",
    "    ax.legend()\n",
    "\n",
    "\n",
    "    def autolabel(rects):\n",
    "        \"\"\"Attach a text label above each bar in *rects*, displaying its height.\"\"\"\n",
    "        for rect in rects:\n",
    "            height = rect.get_height()\n",
    "            ax.annotate('{}'.format(height),\n",
    "                        xy=(rect.get_x() + rect.get_width() / 2, height),\n",
    "                        xytext=(0, 3),  # 3 points vertical offset\n",
    "                        textcoords=\"offset points\",\n",
    "                        ha='center', va='bottom')\n",
    "\n",
    "    autolabel(rects1)\n",
    "    autolabel(rects2)\n",
    "    autolabel(rects3)\n",
    "        \n",
    "    fig.tight_layout()\n",
    "\n",
    "    plt.show()"
   ]
  },
  {
   "cell_type": "code",
   "execution_count": 24,
   "metadata": {},
   "outputs": [
    {
     "data": {
      "image/png": "[encoded data removed]",
      "text/plain": [
       "<Figure size 864x504 with 1 Axes>"
      ]
     },
     "metadata": {},
     "output_type": "display_data"
    }
   ],
   "source": [
    "train_means = count_images('C:\\\\Users\\\\sneha\\\\Desktop\\\\NeuralNetworks\\\\New\\\\old_train\\\\', classes)\n",
    "valid_means = count_images('C:\\\\Users\\\\sneha\\\\Desktop\\\\NeuralNetworks\\\\New\\\\old_valid\\\\', classes)\n",
    "test_means = count_images('C:\\\\Users\\\\sneha\\\\Desktop\\\\NeuralNetworks\\\\New\\\\old_test\\\\', classes)\n",
    "train_valid_plot(train_means, valid_means, test_means)"
   ]
  },
  {
   "cell_type": "markdown",
   "metadata": {},
   "source": [
    "# Oversampling the minority classes\n",
    "\n",
    "Programmer: Sindhusha Devi Parimi\n",
    "\n",
    "Purpose: Augmented the data before we ran it for all the models. Implemented oversampling in an attempt to address the severe imbalance in classes in the data. This resulted in a marginal decrease in overall accuracy of the ImageNet models. "
   ]
  },
  {
   "cell_type": "code",
   "execution_count": null,
   "metadata": {},
   "outputs": [],
   "source": [
    "import pathlib\n",
    "import matplotlib as plt\n",
    "import re\n",
    "\n",
    "image_gen_train = ImageDataGenerator(\n",
    "                    rescale=1./255,\n",
    "                    rotation_range=45,\n",
    "                    width_shift_range=.15,\n",
    "                    height_shift_range=.15,\n",
    "                    horizontal_flip=True,\n",
    "                    zoom_range=0.5\n",
    "                    )\n",
    "\n",
    "train_dir=\"C:\\\\Users\\\\sneha\\\\Desktop\\\\NeuralNetworks\\\\dummy\\\\\"\n",
    "\n",
    "data_dir = pathlib.Path(train_dir)\n",
    "\n",
    "for file in data_dir.glob('*/*.png'):\n",
    "    k = re.sub(r'\\\\', '/', str(file))\n",
    "    save_here = 'C:\\\\Users\\\\sneha\\\\Desktop\\\\NeuralNetworks\\\\dummy\\\\3_new\\\\'\n",
    "    print(k)\n",
    "    #image_path = 'D:\\\\NN_Project\\\\New_folder\\\\expr\\\\1\\\\00cb6555d108.png'\n",
    "    image = np.expand_dims(plt.pyplot.imread(k),0)\n",
    "\n",
    "    image_gen_train.fit(image)\n",
    "\n",
    "    for x, val in zip(image_gen_train.flow(image,                    #image we chose\n",
    "            save_to_dir=save_here,     #this is where we figure out where to save\n",
    "             save_prefix='aug',        # it will save the images as 'aug_0912' some number for every new augmented image\n",
    "            save_format='png'),range(5)) :     # defining a range to augmented images\n",
    "               pass\n"
   ]
  },
  {
   "cell_type": "markdown",
   "metadata": {},
   "source": [
    "### Visualizing the oversampled dataset\n",
    "\n",
    "Programmer: Sneha Ravi Chandran\n",
    "\n",
    "Purpose: Visualizing the over sampled class labels using matplotlib"
   ]
  },
  {
   "cell_type": "code",
   "execution_count": 7,
   "metadata": {},
   "outputs": [
    {
     "data": {
      "image/png": "[encoded data removed]",
      "text/plain": [
       "<Figure size 864x504 with 1 Axes>"
      ]
     },
     "metadata": {},
     "output_type": "display_data"
    }
   ],
   "source": [
    "classes = ['0', '1', '2', '3', '4']\n",
    "y = count_images(\"C:\\\\Users\\\\sneha\\\\Desktop\\\\NeuralNetworks\\\\split\\\\\", classes)\n",
    "plot_class(y)"
   ]
  },
  {
   "cell_type": "markdown",
   "metadata": {},
   "source": [
    "# Splitting the over sampled dataset into Train, Validation\n",
    "\n",
    "Programmer: Priyanjani Chandra\n",
    "\n",
    "Purpose: Taking the file system and split it up further into training, test and validation data sets."
   ]
  },
  {
   "cell_type": "code",
   "execution_count": 9,
   "metadata": {},
   "outputs": [],
   "source": [
    "# Setting the path to the oversampled dataset\n",
    "train_dir=\"C:\\\\Users\\\\sneha\\\\Desktop\\\\NeuralNetworks\\\\split\\\\\""
   ]
  },
  {
   "cell_type": "code",
   "execution_count": 10,
   "metadata": {},
   "outputs": [],
   "source": [
    "# Create folders for training data and validation randomly splitted \n",
    "new_train = os.mkdir(\"new_train\")\n",
    "new_valid = os.mkdir(\"new_valid\")"
   ]
  },
  {
   "cell_type": "code",
   "execution_count": 11,
   "metadata": {},
   "outputs": [],
   "source": [
    "# Assigning the paths\n",
    "new_train_dir = \"new_train/\"\n",
    "new_valid_dir = \"new_valid/\""
   ]
  },
  {
   "cell_type": "code",
   "execution_count": 12,
   "metadata": {},
   "outputs": [],
   "source": [
    "# Get all the classes from the original train directory\n",
    "classes = os.listdir(train_dir) "
   ]
  },
  {
   "cell_type": "code",
   "execution_count": 13,
   "metadata": {},
   "outputs": [],
   "source": [
    "# Create target folders in the new train data and new validation data directory\n",
    "for c in classes:\n",
    "    os.mkdir(new_train_dir+c)\n",
    "    os.mkdir(new_valid_dir+c)"
   ]
  },
  {
   "cell_type": "code",
   "execution_count": 15,
   "metadata": {},
   "outputs": [
    {
     "data": {
      "text/plain": [
       "['0', '1', '2', '3', '4']"
      ]
     },
     "execution_count": 15,
     "metadata": {},
     "output_type": "execute_result"
    }
   ],
   "source": [
    "classes"
   ]
  },
  {
   "cell_type": "code",
   "execution_count": null,
   "metadata": {},
   "outputs": [],
   "source": [
    "# Split the oversampled data to train and validation sets\n",
    "split_dataset(train_dir, classes, new_train_dir, new_valid_dir)"
   ]
  },
  {
   "cell_type": "code",
   "execution_count": 81,
   "metadata": {},
   "outputs": [
    {
     "name": "stdout",
     "output_type": "stream",
     "text": [
      "Number of images in train dataset:       6488\n",
      "Number of images in validation dataset:  1625\n"
     ]
    }
   ],
   "source": [
    "# Finding the totoal number of images present in train and validation dataset\n",
    "train_count = count_images('C:\\\\Users\\\\sneha\\\\Desktop\\\\NeuralNetworks\\\\new_train\\\\', classes)\n",
    "valid_count = count_images('C:\\\\Users\\\\sneha\\\\Desktop\\\\NeuralNetworks\\\\new_valid\\\\', classes)\n",
    "print('Number of images in train dataset:      ', sum(train_count))\n",
    "print('Number of images in validation dataset: ', sum(valid_count))"
   ]
  },
  {
   "cell_type": "markdown",
   "metadata": {},
   "source": [
    "### Visualizing the train, validation dataset\n",
    "\n",
    "Programmer: Sneha Ravi Chandran\n",
    "\n",
    "Purpose: Visualizing the over sampled class labels for training and validation using matplotlib"
   ]
  },
  {
   "cell_type": "code",
   "execution_count": 15,
   "metadata": {},
   "outputs": [],
   "source": [
    "# plotting the training and validation split ratio\n",
    "\n",
    "def train_valid_plot(train_means, valid_means):\n",
    "    labels = ['0- No DR', '1- Mild', '2- Moderate', '3- Severe', '4- Proliferative DR']\n",
    "\n",
    "    x = np.arange(len(labels))  # the label locations\n",
    "    width = 0.35  # the width of the bars\n",
    "\n",
    "    fig, ax = plt.subplots(figsize=(12,7))\n",
    "    rects1 = ax.bar(x - width/2, train_means, width, label='Train')\n",
    "    rects2 = ax.bar(x + width/2, valid_means, width, label='Validation')\n",
    "    #rects3 = ax.bar(x + width/2, test_means, width, label='Test')\n",
    "\n",
    "    # Add some text for labels, title and custom x-axis tick labels, etc.\n",
    "    ax.set_xlabel(\"Class\", fontsize=15)\n",
    "    ax.set_ylabel('Count', fontsize=15)\n",
    "    ax.set_title('DR Training Validation Split', fontsize=25)\n",
    "    ax.set_xticks(x)\n",
    "    ax.set_xticklabels(labels)\n",
    "    ax.legend()\n",
    "\n",
    "\n",
    "    def autolabel(rects):\n",
    "        \"\"\"Attach a text label above each bar in *rects*, displaying its height.\"\"\"\n",
    "        for rect in rects:\n",
    "            height = rect.get_height()\n",
    "            ax.annotate('{}'.format(height),\n",
    "                        xy=(rect.get_x() + rect.get_width() / 2, height),\n",
    "                        xytext=(0, 3),  # 3 points vertical offset\n",
    "                        textcoords=\"offset points\",\n",
    "                        ha='center', va='bottom')\n",
    "\n",
    "    autolabel(rects1)\n",
    "    autolabel(rects2)\n",
    "    #autolabel(rects3)\n",
    "        \n",
    "    fig.tight_layout()\n",
    "\n",
    "    plt.show()"
   ]
  },
  {
   "cell_type": "code",
   "execution_count": 16,
   "metadata": {},
   "outputs": [
    {
     "data": {
      "image/png": "[encoded data removed]",
      "text/plain": [
       "<Figure size 864x504 with 1 Axes>"
      ]
     },
     "metadata": {},
     "output_type": "display_data"
    }
   ],
   "source": [
    "train_means = count_images('C:\\\\Users\\\\sneha\\\\Desktop\\\\NeuralNetworks\\\\new_train\\\\', classes)\n",
    "valid_means = count_images('C:\\\\Users\\\\sneha\\\\Desktop\\\\NeuralNetworks\\\\new_valid\\\\', classes)\n",
    "train_valid_plot(train_means, valid_means)"
   ]
  },
  {
   "cell_type": "code",
   "execution_count": null,
   "metadata": {},
   "outputs": [],
   "source": []
  }
 ],
 "metadata": {
  "kernelspec": {
   "display_name": "Python 3",
   "language": "python",
   "name": "python3"
  },
  "language_info": {
   "codemirror_mode": {
    "name": "ipython",
    "version": 3
   },
   "file_extension": ".py",
   "mimetype": "text/x-python",
   "name": "python",
   "nbconvert_exporter": "python",
   "pygments_lexer": "ipython3",
   "version": "3.7.4"
  }
 },
 "nbformat": 4,
 "nbformat_minor": 2
}
